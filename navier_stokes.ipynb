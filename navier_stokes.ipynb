{
 "cells": [
  {
   "cell_type": "code",
   "execution_count": 1,
   "id": "adcd191c-8d4e-4039-8b53-b1fa4437f55d",
   "metadata": {},
   "outputs": [],
   "source": [
    "import os\n",
    "import warnings\n",
    " \n",
    "from sympy import Symbol, Eq, Abs\n",
    " \n",
    "import modulus.sym\n",
    "from modulus.sym.hydra import to_absolute_path, instantiate_arch, ModulusConfig\n",
    "# from modulus.sym.solver import Solver\n",
    "# from modulus.sym.domain import Domain\n",
    "from modulus.sym.geometry.primitives_2d import Rectangle, Line\n",
    "from modulus.sym.geometry.primitives_3d import Box, Sphere, Cylinder\n",
    "# from modulus.sym.domain.constraint import (PointwiseBoundaryConstraint, PointwiseInteriorConstraint,)\n",
    "# from modulus.sym.domain.validator import PointwiseValidator\n",
    "# from modulus.sym.domain.inferencer import PointwiseInferencer\n",
    "from modulus.sym.key import Key\n",
    "from modulus.sym.eq.pdes.navier_stokes import NavierStokes\n",
    "# from modulus.sym.utils.io import (csv_to_dict, ValidatorPlotter, InferencerPlotter,)\n",
    " \n",
    "import numpy as np\n",
    "import vtk\n",
    "# import modulus.sym.geometry.primitives_1d as geoSym1D\n",
    "from modulus.sym.utils.io.vtk import var_to_polyvtk"
   ]
  },
  {
   "cell_type": "code",
   "execution_count": null,
   "id": "66b29177-a6c6-4393-aca5-cc04fc204f14",
   "metadata": {},
   "outputs": [],
   "source": []
  },
  {
   "cell_type": "code",
   "execution_count": 2,
   "id": "c4a989fa-553a-4e66-9854-49e833c6ccaa",
   "metadata": {},
   "outputs": [],
   "source": [
    "# def make_room(room_length, room_width, room_height):\n",
    "#     p1 = (-room_length/2, -room_width/2, -room_height/2)\n",
    "#     p2 = (room_length/2, room_width/2, room_height/2)\n",
    "    \n",
    "#     return Box(p1, p2)"
   ]
  },
  {
   "cell_type": "code",
   "execution_count": 3,
   "id": "f2dc086a-48de-46b2-bacb-69bdf9ce1c75",
   "metadata": {},
   "outputs": [],
   "source": [
    "# room = make_room(20, 20, 9)"
   ]
  },
  {
   "cell_type": "code",
   "execution_count": null,
   "id": "73539b3a-0018-4634-aeb0-1e2be3e2f305",
   "metadata": {},
   "outputs": [],
   "source": []
  },
  {
   "cell_type": "code",
   "execution_count": 4,
   "id": "e507bb57-6b16-4dce-8f83-17dd9beec7cc",
   "metadata": {},
   "outputs": [],
   "source": [
    "nr_points = 10000000"
   ]
  },
  {
   "cell_type": "code",
   "execution_count": 5,
   "id": "e6bb5504-7bf8-49d6-9d2d-155bc7aba887",
   "metadata": {},
   "outputs": [],
   "source": [
    "room = Box((0, 0, 0), (20, 20, 9))"
   ]
  },
  {
   "cell_type": "code",
   "execution_count": 6,
   "id": "93c8ee6c-f35e-4d36-99ab-68d6fa69d398",
   "metadata": {},
   "outputs": [],
   "source": [
    "# inlet_1 = Box((1, 18, 8), (2, 19, 8.5))\n",
    "# inlet_2 = Box((18, 1, 8), (19, 2, 8.5))\n",
    "\n",
    "inlet_1 = Box((2, 17, 7), (4, 19, 8))\n",
    "inlet_2 = Box((17, 2, 7), (17, 4, 8))"
   ]
  },
  {
   "cell_type": "code",
   "execution_count": 7,
   "id": "28c4ca6b-855b-4a0d-acb9-0f5c0634c870",
   "metadata": {},
   "outputs": [],
   "source": [
    "outlet_1 = Box((9, 9, 0), (10, 10, 1))"
   ]
  },
  {
   "cell_type": "code",
   "execution_count": 8,
   "id": "dadf64cc-e31c-4e4a-b2bc-0c3f393fff87",
   "metadata": {},
   "outputs": [],
   "source": [
    "room_interior = room - inlet_1 - inlet_2 - outlet_1"
   ]
  },
  {
   "cell_type": "code",
   "execution_count": 9,
   "id": "55c13628-2930-4f18-a085-36422fa3e628",
   "metadata": {},
   "outputs": [
    {
     "name": "stdout",
     "output_type": "stream",
     "text": [
      "Volume:1540.160\n"
     ]
    }
   ],
   "source": [
    "room_interior_sample = room_interior.sample_boundary(nr_points=nr_points)\n",
    "var_to_polyvtk(room_interior_sample, \"room_interior_sample\")\n",
    "print(\"Volume:{:.3f}\".format(np.sum(room_interior_sample[\"area\"])))"
   ]
  },
  {
   "cell_type": "code",
   "execution_count": null,
   "id": "2dad7ee1-88d4-4f2a-930e-6c3509df2a69",
   "metadata": {},
   "outputs": [],
   "source": []
  },
  {
   "cell_type": "code",
   "execution_count": null,
   "id": "72fc42e3-7925-4569-8682-2475adc6f374",
   "metadata": {},
   "outputs": [],
   "source": []
  },
  {
   "cell_type": "code",
   "execution_count": null,
   "id": "5ef9a63e-5f5b-4230-a30b-c62ca7a776f6",
   "metadata": {},
   "outputs": [],
   "source": []
  },
  {
   "cell_type": "code",
   "execution_count": null,
   "id": "e2ad22af-f103-4891-92be-b68a8d130cfa",
   "metadata": {},
   "outputs": [],
   "source": []
  },
  {
   "cell_type": "code",
   "execution_count": null,
   "id": "118945ba-1c76-4fda-8694-0e4ce54df866",
   "metadata": {},
   "outputs": [],
   "source": []
  }
 ],
 "metadata": {
  "kernelspec": {
   "display_name": "Python 3 (ipykernel)",
   "language": "python",
   "name": "python3"
  },
  "language_info": {
   "codemirror_mode": {
    "name": "ipython",
    "version": 3
   },
   "file_extension": ".py",
   "mimetype": "text/x-python",
   "name": "python",
   "nbconvert_exporter": "python",
   "pygments_lexer": "ipython3",
   "version": "3.10.12"
  }
 },
 "nbformat": 4,
 "nbformat_minor": 5
}
